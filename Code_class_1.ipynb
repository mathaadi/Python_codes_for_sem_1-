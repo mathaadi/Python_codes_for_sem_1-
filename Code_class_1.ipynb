{
  "cells": [
    {
      "cell_type": "code",
      "execution_count": null,
      "metadata": {
        "colab": {
          "base_uri": "https://localhost:8080/"
        },
        "id": "LOziLpwsJd_D",
        "outputId": "c0630117-bd07-410f-b880-4762ef4e11f9"
      },
      "outputs": [
        {
          "data": {
            "text/plain": [
              "484994347011.20123"
            ]
          },
          "execution_count": 2,
          "metadata": {},
          "output_type": "execute_result"
        }
      ],
      "source": [
        "878513+5656566*56245654/656-2345624"
      ]
    },
    {
      "cell_type": "code",
      "execution_count": null,
      "metadata": {
        "colab": {
          "base_uri": "https://localhost:8080/",
          "height": 53
        },
        "id": "DlaCjBVhKEvz",
        "outputId": "ab225480-5470-42e5-b967-e2bdccc89de4"
      },
      "outputs": [
        {
          "name": "stdout",
          "output_type": "stream",
          "text": [
            "465445546\n"
          ]
        },
        {
          "data": {
            "application/vnd.google.colaboratory.intrinsic+json": {
              "type": "string"
            },
            "text/plain": [
              "'465445546'"
            ]
          },
          "execution_count": 6,
          "metadata": {},
          "output_type": "execute_result"
        }
      ],
      "source": [
        "input()"
      ]
    },
    {
      "cell_type": "code",
      "execution_count": null,
      "metadata": {
        "colab": {
          "base_uri": "https://localhost:8080/",
          "height": 53
        },
        "id": "SwCC4cNeKzeH",
        "outputId": "c893cefd-2c68-478b-92f4-f5936a31e384"
      },
      "outputs": [
        {
          "name": "stdout",
          "output_type": "stream",
          "text": [
            "Please enter your nameAditya\n"
          ]
        },
        {
          "data": {
            "application/vnd.google.colaboratory.intrinsic+json": {
              "type": "string"
            },
            "text/plain": [
              "'Aditya'"
            ]
          },
          "execution_count": 9,
          "metadata": {},
          "output_type": "execute_result"
        }
      ],
      "source": [
        "input(\"Please enter your name\")"
      ]
    },
    {
      "cell_type": "markdown",
      "metadata": {
        "id": "wRMt0OIxtPQA"
      },
      "source": [
        "fun with inputand print functions\n"
      ]
    },
    {
      "cell_type": "markdown",
      "metadata": {
        "id": "WaSPdTzZtO_G"
      },
      "source": []
    },
    {
      "cell_type": "code",
      "execution_count": null,
      "metadata": {
        "colab": {
          "base_uri": "https://localhost:8080/"
        },
        "id": "AGx2o0wJLnft",
        "outputId": "04bab38f-807b-41d1-9bb6-c1bbaac8906c"
      },
      "outputs": [
        {
          "name": "stdout",
          "output_type": "stream",
          "text": [
            "Please type your name58528\n",
            "Name entered by you is  Aditya\n",
            "<class 'str'>\n"
          ]
        }
      ],
      "source": [
        "usr1=input(\"Please type your name\")\n",
        "print(\"Name entered by you is \",usr)\n",
        "print(type(usr1))\n"
      ]
    },
    {
      "cell_type": "code",
      "execution_count": null,
      "metadata": {
        "colab": {
          "base_uri": "https://localhost:8080/"
        },
        "id": "bkRTdwziMmYz",
        "outputId": "b3b03e34-7f23-4761-9fef-a9ccdabb81d9"
      },
      "outputs": [
        {
          "output_type": "stream",
          "name": "stdout",
          "text": [
            "Please enter your n age18\n",
            "<class 'float'>\n",
            "<class 'int'>\n",
            "18.0\n"
          ]
        }
      ],
      "source": [
        "usr2=float(input(\"Please enter your n age\"))\n",
        "print(type(usr2))\n",
        "print(type(int(usr2)))\n",
        "print(usr2)\n"
      ]
    },
    {
      "cell_type": "code",
      "execution_count": null,
      "metadata": {
        "colab": {
          "base_uri": "https://localhost:8080/"
        },
        "id": "WQNbUT67QOwz",
        "outputId": "5c37dfba-e45b-455b-e3cd-b255bfa36811"
      },
      "outputs": [
        {
          "name": "stdout",
          "output_type": "stream",
          "text": [
            "<class 'str'>\n"
          ]
        }
      ],
      "source": [
        "print(type(usr2))"
      ]
    },
    {
      "cell_type": "code",
      "execution_count": null,
      "metadata": {
        "colab": {
          "base_uri": "https://localhost:8080/"
        },
        "id": "DuCIgVBfTuxF",
        "outputId": "72194a15-ca9f-4e4e-a8b7-98402f532a8b"
      },
      "outputs": [
        {
          "name": "stdout",
          "output_type": "stream",
          "text": [
            "<class 'int'>\n"
          ]
        }
      ],
      "source": [
        "usr3=int(usr2)\n",
        "print(type(usr3))"
      ]
    },
    {
      "cell_type": "code",
      "execution_count": null,
      "metadata": {
        "colab": {
          "base_uri": "https://localhost:8080/"
        },
        "id": "zlmH6ZxJT6iE",
        "outputId": "7bb57320-763c-4ddd-93fd-36b31bd94ca7"
      },
      "outputs": [
        {
          "name": "stdout",
          "output_type": "stream",
          "text": [
            "My name is Aditya My age is 18\n",
            "My name is AdityaMy age is 18\n",
            "My name is AdityaMy name is AdityaMy name is AdityaMy name is AdityaMy name is AdityaMy name is AdityaMy name is AdityaMy name is Aditya\n",
            "My name is Aditya#My age is 18#18#18.0$Hello world\n"
          ]
        }
      ],
      "source": [
        "usr4=(\"My name is Aditya\")\n",
        "usr5=(\"My age is 18\")\n",
        "print(usr4,usr5)\n",
        "print(usr4+usr5)\n",
        "print(usr4*8)\n",
        "print(usr4,usr5,usr3,usr2,sep=\"#\",end=\"$\")\n",
        "print(\"Hello world\")"
      ]
    },
    {
      "cell_type": "code",
      "execution_count": null,
      "metadata": {
        "colab": {
          "base_uri": "https://localhost:8080/"
        },
        "id": "7XyWT-2EWk7N",
        "outputId": "80c4e2fb-5023-43d1-c857-074f31685e41"
      },
      "outputs": [
        {
          "name": "stdout",
          "output_type": "stream",
          "text": [
            "58528\n"
          ]
        }
      ],
      "source": [
        "\"\"\"it is \n",
        "multi line comment \"\"\"\n",
        "print(usr1)"
      ]
    },
    {
      "cell_type": "code",
      "execution_count": null,
      "metadata": {
        "colab": {
          "base_uri": "https://localhost:8080/"
        },
        "id": "KyrHFudrXnTl",
        "outputId": "57d1a680-aa1b-479b-f5d0-76ba3c2ed489"
      },
      "outputs": [
        {
          "name": "stdout",
          "output_type": "stream",
          "text": [
            "<class 'float'>\n",
            "20\n"
          ]
        }
      ],
      "source": [
        "usr6=20.0\n",
        "print(type(usr6))\n",
        "usr6=20.1\n",
        "usr7=int(usr6)\n",
        "print(usr7)"
      ]
    },
    {
      "cell_type": "markdown",
      "metadata": {
        "id": "gv8TKikAtH_G"
      },
      "source": [
        "Hey list srtarts here\n"
      ]
    },
    {
      "cell_type": "code",
      "execution_count": null,
      "metadata": {
        "colab": {
          "base_uri": "https://localhost:8080/"
        },
        "id": "AJL0daf1aWk0",
        "outputId": "26c432c4-9320-4462-82f9-d20642705f3b"
      },
      "outputs": [
        {
          "name": "stdout",
          "output_type": "stream",
          "text": [
            "['Adit', 'hadjkafhwk']\n"
          ]
        }
      ],
      "source": [
        "Lst_vare=[\"Adit\",\"hadjkafhwk\"]\n",
        "print(Lst_vare)"
      ]
    },
    {
      "cell_type": "code",
      "execution_count": null,
      "metadata": {
        "colab": {
          "base_uri": "https://localhost:8080/"
        },
        "id": "hXVz4A-ibw0m",
        "outputId": "fa9efef5-4ee0-411e-e55a-15e3ccd9983e"
      },
      "outputs": [
        {
          "name": "stdout",
          "output_type": "stream",
          "text": [
            "['Aditya', 'Matha']\n"
          ]
        }
      ],
      "source": [
        "Lst_var2=[\"Aditya\",\"Matha\"]\n",
        "print(Lst_var2)"
      ]
    },
    {
      "cell_type": "code",
      "execution_count": null,
      "metadata": {
        "colab": {
          "base_uri": "https://localhost:8080/"
        },
        "id": "h4ltff74cF33",
        "outputId": "c698449e-06d6-4d3d-f0e1-5efe0f835cba"
      },
      "outputs": [
        {
          "name": "stdout",
          "output_type": "stream",
          "text": [
            "<class 'list'>\n",
            "[]\n"
          ]
        }
      ],
      "source": [
        "lst_var=[]\n",
        "print(type(lst_var))\n",
        "print(lst_var)"
      ]
    },
    {
      "cell_type": "markdown",
      "metadata": {
        "id": "pIhfh4HItD9J"
      },
      "source": [
        "nested list"
      ]
    },
    {
      "cell_type": "code",
      "execution_count": null,
      "metadata": {
        "colab": {
          "base_uri": "https://localhost:8080/"
        },
        "id": "8PXZDsG2sWhi",
        "outputId": "640e0609-d4b5-4b68-8a9c-9d741706c09e"
      },
      "outputs": [
        {
          "name": "stdout",
          "output_type": "stream",
          "text": [
            "['a', 'b', 12, [1, 2, 3]]\n"
          ]
        }
      ],
      "source": [
        "list_var=[\"a\",\"b\",12,[1,2,3]]\n",
        "print(list_var)"
      ]
    },
    {
      "cell_type": "markdown",
      "metadata": {
        "id": "AWs6RDAItXHR"
      },
      "source": [
        "tuple"
      ]
    },
    {
      "cell_type": "markdown",
      "metadata": {
        "id": "QDq25nZmuSOl"
      },
      "source": []
    },
    {
      "cell_type": "code",
      "execution_count": null,
      "metadata": {
        "colab": {
          "base_uri": "https://localhost:8080/"
        },
        "id": "6vetP-bes900",
        "outputId": "bdf735fe-29a7-477f-b479-c1da73e31b44"
      },
      "outputs": [
        {
          "name": "stdout",
          "output_type": "stream",
          "text": [
            "('a', 'b', [1, 2, 4343234])\n",
            "('a', 'b', 1, 3)\n",
            "<class 'tuple'>\n"
          ]
        }
      ],
      "source": [
        "tup_var=('a','b',1,3,)\n",
        "\n",
        "print(tup_var)\n",
        "print(type(tup_var))"
      ]
    },
    {
      "cell_type": "markdown",
      "metadata": {
        "id": "niDM7uPkuYx1"
      },
      "source": [
        "list in a tuple\n"
      ]
    },
    {
      "cell_type": "markdown",
      "metadata": {
        "id": "ot9x0wg0uYZY"
      },
      "source": []
    },
    {
      "cell_type": "code",
      "execution_count": null,
      "metadata": {
        "colab": {
          "base_uri": "https://localhost:8080/"
        },
        "id": "GdguTj76to5F",
        "outputId": "ec5160db-8c06-401e-8816-77abeb291392"
      },
      "outputs": [
        {
          "name": "stdout",
          "output_type": "stream",
          "text": [
            "('a', 'b', [1, 2, 4343234])\n"
          ]
        }
      ],
      "source": [
        "tup_var2=('a','b',[1,2,4343234,])\n",
        "print(tup_var2)"
      ]
    },
    {
      "cell_type": "markdown",
      "metadata": {
        "id": "JuKhPVR9uoRQ"
      },
      "source": [
        "tuple in a list"
      ]
    },
    {
      "cell_type": "code",
      "execution_count": null,
      "metadata": {
        "colab": {
          "base_uri": "https://localhost:8080/"
        },
        "id": "Tkcg5_qPuJs6",
        "outputId": "b5ef4e5d-76da-4273-fee7-488fd563e6ea"
      },
      "outputs": [
        {
          "name": "stdout",
          "output_type": "stream",
          "text": [
            "['ddsafvefaf', 233, 2, 32, (1, 32, 4, 4)]\n"
          ]
        }
      ],
      "source": [
        "list_var32=['ddsafvefaf',233,2,32,(1,32,4,4)]\n",
        "print(list_var32)"
      ]
    },
    {
      "cell_type": "code",
      "execution_count": null,
      "metadata": {
        "colab": {
          "base_uri": "https://localhost:8080/"
        },
        "id": "JkXZiwmnumi9",
        "outputId": "dd087e7c-8ca9-4fa9-beee-45dc36eeba38"
      },
      "outputs": [
        {
          "name": "stdout",
          "output_type": "stream",
          "text": [
            "<class 'tuple'>\n",
            "<class 'list'>\n"
          ]
        }
      ],
      "source": [
        "exp=tuple(list_var32)\n",
        "print1=list(tup_var2)\n",
        "print(type(exp))\n",
        "print(type(print1))"
      ]
    },
    {
      "cell_type": "markdown",
      "metadata": {
        "id": "NHxwFk_2w9Rf"
      },
      "source": [
        "Dictionary starts here \n"
      ]
    },
    {
      "cell_type": "code",
      "execution_count": null,
      "metadata": {
        "colab": {
          "base_uri": "https://localhost:8080/"
        },
        "id": "Y0uFK1fuvKK6",
        "outputId": "4c6f3b4d-7ce5-47c3-e099-8a03535d252d"
      },
      "outputs": [
        {
          "name": "stdout",
          "output_type": "stream",
          "text": [
            "{'Hello': 1, 'Key2': 22, 1223: 232332}\n",
            "<class 'dict'>\n"
          ]
        }
      ],
      "source": [
        "dict_type={\"Hello\":1,\"Key2\":22,1223:232332}\n",
        "print(dict_type)\n",
        "print(type(dict_type))"
      ]
    },
    {
      "cell_type": "markdown",
      "metadata": {
        "id": "T4I8SBiqyKZa"
      },
      "source": [
        "SETS"
      ]
    },
    {
      "cell_type": "code",
      "execution_count": null,
      "metadata": {
        "colab": {
          "base_uri": "https://localhost:8080/"
        },
        "id": "AYbO3ouHxekR",
        "outputId": "12555f8a-30a2-469c-f994-3df7a2b2513d"
      },
      "outputs": [
        {
          "name": "stdout",
          "output_type": "stream",
          "text": [
            "{1, 2, 3, 43, 12, 44, 45}\n",
            "<class 'set'>\n",
            "{1, 2, 3, 43, 12, 44, 45}\n"
          ]
        }
      ],
      "source": [
        "sets={12,1,1,1,12,3,44,3,2,2,3,45,43,2}\n",
        "print(sets)\n",
        "print(type(sets))\n",
        "print(sets)"
      ]
    },
    {
      "cell_type": "markdown",
      "metadata": {
        "id": "NESbgZ5rzVqE"
      },
      "source": [
        "activity"
      ]
    },
    {
      "cell_type": "code",
      "execution_count": null,
      "metadata": {
        "colab": {
          "base_uri": "https://localhost:8080/"
        },
        "id": "bLRDYjRwyWNe",
        "outputId": "0b19dc82-da67-450c-8907-1b1816b4f43e"
      },
      "outputs": [
        {
          "name": "stdout",
          "output_type": "stream",
          "text": [
            "[1, 2, 36, 5, 7, 8, 9, 42, 47]\n"
          ]
        }
      ],
      "source": [
        "exe_list=[2,42,36,47,2,5,2,1,47,36,8,8,42,7,8,9,2,5,7]\n",
        "exe_chang=set(exe_list)\n",
        "exe_change2=list(exe_chang)\n",
        "print(exe_change2)"
      ]
    },
    {
      "cell_type": "markdown",
      "metadata": {
        "id": "4-BcyBCj0rs4"
      },
      "source": [
        "better way for activity"
      ]
    },
    {
      "cell_type": "code",
      "execution_count": null,
      "metadata": {
        "colab": {
          "base_uri": "https://localhost:8080/"
        },
        "id": "Dnejfp9Tz2ok",
        "outputId": "5fa1f7f7-3bda-4c96-dea5-9de3101a2ec7"
      },
      "outputs": [
        {
          "name": "stdout",
          "output_type": "stream",
          "text": [
            "[1, 2, 36, 5, 7, 8, 9, 42, 47]\n"
          ]
        }
      ],
      "source": [
        "exe_list=[2,42,36,47,2,5,2,1,47,36,8,8,42,7,8,9,2,5,7]\n",
        "exe_chang=list(set(exe_list))\n",
        "print(exe_chang)"
      ]
    },
    {
      "cell_type": "markdown",
      "metadata": {
        "id": "NKfbdRwi15s0"
      },
      "source": [
        "Questions to solve \n",
        "1 number of elements in the list\n",
        "2 greatest number in list \n",
        "3 smallest number in list\n",
        "4 sum of all elements in the list \n",
        "product of all elements in the list \n",
        "**Starting of LOOP**\n",
        "\n"
      ]
    },
    {
      "cell_type": "code",
      "execution_count": null,
      "metadata": {
        "colab": {
          "base_uri": "https://localhost:8080/"
        },
        "id": "uGcG88-g057V",
        "outputId": "2c0064eb-506c-4153-ac08-a9f4e6ae9f7e"
      },
      "outputs": [
        {
          "name": "stdout",
          "output_type": "stream",
          "text": [
            "number of elements in the list: 18\n",
            "greatest number in list 177\n",
            "smallest number in list 1\n",
            "sum of all elements in the list 1129\n",
            "The product is : 1085405385049619961600000000\n",
            "Cube of the ek=lement in list are : 1\n",
            "Cube of the ek=lement in list are : 8\n",
            "Cube of the ek=lement in list are : 27\n",
            "Cube of the ek=lement in list are : 91125\n",
            "Cube of the ek=lement in list are : 300763\n",
            "Cube of the ek=lement in list are : 74088\n",
            "Cube of the ek=lement in list are : 1000000\n",
            "Cube of the ek=lement in list are : 2146689\n",
            "Cube of the ek=lement in list are : 91125\n",
            "Cube of the ek=lement in list are : 474552\n",
            "Cube of the ek=lement in list are : 778688\n",
            "Cube of the ek=lement in list are : 274625\n",
            "Cube of the ek=lement in list are : 512\n",
            "Cube of the ek=lement in list are : 12167\n",
            "Cube of the ek=lement in list are : 1728\n",
            "Cube of the ek=lement in list are : 729000\n",
            "Cube of the ek=lement in list are : 3375000\n",
            "Cube of the ek=lement in list are : 5545233\n"
          ]
        }
      ],
      "source": [
        "lst_type=[1,2,3,45,67,42,100,129,45,78,92,65,8,23,12,90,150,177]\n",
        "print(\"number of elements in the list:\",len(lst_type))\n",
        "print(\"greatest number in list\",max(lst_type))\n",
        "print(\"smallest number in list\",min(lst_type))\n",
        "print(\"sum of all elements in the list\",sum(lst_type))\n",
        "var=1\n",
        "for element in lst_type:\n",
        "    var=var*element\n",
        "print(\"The product is :\",var)\n",
        "for ele in lst_type:\n",
        "    aside=1\n",
        "    aside=ele**3\n",
        "    print(\"Cube of the ek=lement in list are :\" ,aside)\n",
        "\n",
        "\n",
        "\n",
        "\n"
      ]
    },
    {
      "cell_type": "markdown",
      "metadata": {
        "id": "5f9Wa7BG6i0g"
      },
      "source": [
        "for loop"
      ]
    },
    {
      "cell_type": "code",
      "execution_count": null,
      "metadata": {
        "colab": {
          "background_save": true
        },
        "id": "hOzX8cKO6k7R",
        "outputId": "0c62ef7b-aaf8-42f1-a610-e0fd3024a4f8"
      },
      "outputs": [
        {
          "name": "stdout",
          "output_type": "stream",
          "text": [
            "1\n",
            "2\n",
            "3\n",
            "45\n",
            "67\n",
            "42\n",
            "100\n",
            "129\n",
            "45\n",
            "78\n",
            "92\n",
            "65\n",
            "8\n",
            "23\n",
            "12\n",
            "90\n",
            "150\n",
            "177\n"
          ]
        }
      ],
      "source": [
        "for element_of_a_list in lst_type:\n",
        "  print(element_of_a_list)\n",
        "print(element_of_a_list)\n"
      ]
    },
    {
      "cell_type": "markdown",
      "metadata": {
        "id": "0EvCyBPV6gzn"
      },
      "source": [
        "while loop"
      ]
    },
    {
      "cell_type": "code",
      "execution_count": null,
      "metadata": {
        "colab": {
          "base_uri": "https://localhost:8080/"
        },
        "id": "fWuSWqGi2d3U",
        "outputId": "2f1f37e8-3ff0-4271-b9f1-474d4802f9b0"
      },
      "outputs": [
        {
          "name": "stdout",
          "output_type": "stream",
          "text": [
            "loop completed\n",
            "100\n"
          ]
        }
      ],
      "source": [
        "a=1\n",
        "while a<100:\n",
        "  a=a+1\n",
        "print(\"loop completed\")\n",
        "print(a)"
      ]
    },
    {
      "cell_type": "markdown",
      "metadata": {
        "id": "wmUcTdPDM3EY"
      },
      "source": [
        "Assignmment operator"
      ]
    },
    {
      "cell_type": "code",
      "execution_count": null,
      "metadata": {
        "colab": {
          "base_uri": "https://localhost:8080/"
        },
        "id": "zLvoLA3x66jy",
        "outputId": "9efabac6-760c-457c-c408-578b4568fb48"
      },
      "outputs": [
        {
          "name": "stdout",
          "output_type": "stream",
          "text": [
            "72\n",
            "70\n",
            "73\n",
            "36.5\n"
          ]
        }
      ],
      "source": [
        "a=24\n",
        "a*=3\n",
        "print(a)\n",
        "a-=2\n",
        "print(a)\n",
        "a+=3\n",
        "print(a)\n",
        "a/=2\n",
        "print(a)"
      ]
    },
    {
      "cell_type": "markdown",
      "metadata": {
        "id": "P-OUbGv1OO9_"
      },
      "source": [
        "Logical operators  AND"
      ]
    },
    {
      "cell_type": "code",
      "execution_count": null,
      "metadata": {
        "colab": {
          "base_uri": "https://localhost:8080/"
        },
        "id": "j0DK-xohOSRc",
        "outputId": "e2b6aff8-a406-4263-d348-69167ce442c6"
      },
      "outputs": [
        {
          "name": "stdout",
          "output_type": "stream",
          "text": [
            "True\n"
          ]
        }
      ],
      "source": [
        "person_a=19\n",
        "person_b=19\n",
        "var_check=(person_a>18)and(person_b>18)\n",
        "print(var_check)\n",
        "person_a=14\n",
        "person_b=20\n",
        "var_check=(person_a>18)and(person_b>18)\n",
        "print(var_check)\n",
        "person_a=14\n",
        "person_b=2\n",
        "var_check=(person_a>18)and(person_b>18)\n",
        "print(var_check)\n"
      ]
    },
    {
      "cell_type": "markdown",
      "metadata": {
        "id": "wlP_GzC1QHLd"
      },
      "source": [
        "OR"
      ]
    },
    {
      "cell_type": "code",
      "execution_count": null,
      "metadata": {
        "colab": {
          "base_uri": "https://localhost:8080/"
        },
        "id": "mTRSiykXO9jI",
        "outputId": "81b6ae16-713d-409a-ee92-84d780f2d474"
      },
      "outputs": [
        {
          "output_type": "stream",
          "name": "stdout",
          "text": [
            "True\n",
            "False\n"
          ]
        }
      ],
      "source": [
        "person_a=14\n",
        "person_b=20\n",
        "var_check=(person_a>18)or(person_b>18)\n",
        "print(var_check)\n",
        "person_a=14\n",
        "person_b=2\n",
        "var_check=(person_a>18)and(person_b>18)\n",
        "print(var_check)\n"
      ]
    },
    {
      "cell_type": "code",
      "execution_count": null,
      "metadata": {
        "colab": {
          "base_uri": "https://localhost:8080/"
        },
        "id": "GacNV7gHQJgi",
        "outputId": "7144a781-e78b-42cc-bca9-2e3d1eb42dad"
      },
      "outputs": [
        {
          "output_type": "stream",
          "name": "stdout",
          "text": [
            "dfhjkwhfgwhf\n"
          ]
        }
      ],
      "source": [
        "print(\"dfhjkwhfgwhf\")"
      ]
    },
    {
      "cell_type": "markdown",
      "source": [
        "date 9/9/2022"
      ],
      "metadata": {
        "id": "bs-nU23bRX4C"
      }
    },
    {
      "cell_type": "markdown",
      "source": [
        "rivision\n"
      ],
      "metadata": {
        "id": "y2aK_OyNRbSZ"
      }
    },
    {
      "cell_type": "code",
      "source": [
        "aditya=\"myu name is aditya\"\n",
        "print(id(aditya))"
      ],
      "metadata": {
        "id": "EF0-pd3ddpm8",
        "colab": {
          "base_uri": "https://localhost:8080/"
        },
        "outputId": "eda7d3fd-056c-4f6f-8015-fb9a752f7dad"
      },
      "execution_count": null,
      "outputs": [
        {
          "output_type": "stream",
          "name": "stdout",
          "text": [
            "140471889830016\n"
          ]
        }
      ]
    },
    {
      "cell_type": "code",
      "source": [
        "print(\"hello)\")"
      ],
      "metadata": {
        "colab": {
          "base_uri": "https://localhost:8080/"
        },
        "id": "m9AWbhgWNA0A",
        "outputId": "c8e31392-2cab-4d7c-d6db-e43c8cbbda17"
      },
      "execution_count": null,
      "outputs": [
        {
          "output_type": "stream",
          "name": "stdout",
          "text": [
            "hello)\n"
          ]
        }
      ]
    },
    {
      "cell_type": "code",
      "source": [
        "hello=input(\"type hello\")\n",
        "ip=(input())\n",
        "print(ip)\n",
        "print(type(ip))"
      ],
      "metadata": {
        "colab": {
          "base_uri": "https://localhost:8080/"
        },
        "id": "sUJ1NLOtN_W_",
        "outputId": "24717c0c-a7cb-46cb-cc47-9d23382b53af"
      },
      "execution_count": null,
      "outputs": [
        {
          "output_type": "stream",
          "name": "stdout",
          "text": [
            "type hello,bfhgerhje\n",
            "m\n",
            "m\n",
            "<class 'str'>\n"
          ]
        }
      ]
    },
    {
      "cell_type": "code",
      "source": [
        "print(\"hello\",\";hgjdshfrejygjrgre\",sep=\"$\",end=\"\\t\")\n",
        "print(\"hello world\")"
      ],
      "metadata": {
        "colab": {
          "base_uri": "https://localhost:8080/"
        },
        "id": "YTfbXmMtP2UU",
        "outputId": "0fb39a34-0b29-4c39-cab5-b6b09ab5c6f6"
      },
      "execution_count": null,
      "outputs": [
        {
          "output_type": "stream",
          "name": "stdout",
          "text": [
            "hello$;hgjdshfrejygjrgre\thello world\n"
          ]
        }
      ]
    },
    {
      "cell_type": "markdown",
      "source": [
        "practice prog "
      ],
      "metadata": {
        "id": "JNEtBsVNR51b"
      }
    },
    {
      "cell_type": "code",
      "source": [
        "name=input(\"please enter your name\")\n",
        "age=float(input(\"please eneter your age\"))\n",
        "print(name,age)\n",
        "print(name,age,sep=\"##\")\n",
        "print(name,age,sep=\"##\",end=\"$$\")\n",
        "print(\"we are done \")"
      ],
      "metadata": {
        "colab": {
          "base_uri": "https://localhost:8080/"
        },
        "id": "an46qcfzRxUv",
        "outputId": "1148fc7a-a0f3-48e6-fba0-6013998a37ee"
      },
      "execution_count": null,
      "outputs": [
        {
          "output_type": "stream",
          "name": "stdout",
          "text": [
            "please enter your nameAditya\n",
            "please eneter your age18\n",
            "Aditya 18.0\n",
            "Aditya##18.0\n",
            "Aditya##18.0$$we are done \n"
          ]
        }
      ]
    },
    {
      "cell_type": "code",
      "source": [
        "lst=[342,4,54,67,4785,7,3125]\n",
        "tupe=(1,2,34,4,6,7,9)\n",
        "setrt={\"a\",1,3,4,3,4,5,32,5,6,43,2,3,5,6,67,6,}\n",
        "print(type(lst))\n",
        "print(type(tupe))\n",
        "print(setrt)\n",
        "print(type(setrt))"
      ],
      "metadata": {
        "colab": {
          "base_uri": "https://localhost:8080/"
        },
        "id": "uwCd_bBWSZg-",
        "outputId": "c385ae8a-b067-43d8-b7df-1f68cdca8d90"
      },
      "execution_count": null,
      "outputs": [
        {
          "output_type": "stream",
          "name": "stdout",
          "text": [
            "<class 'list'>\n",
            "<class 'tuple'>\n",
            "{32, 1, 2, 3, 4, 5, 6, 67, 'a', 43}\n",
            "<class 'set'>\n"
          ]
        }
      ]
    },
    {
      "cell_type": "code",
      "source": [
        "h=input(\"hello worl\")\n",
        "wete={2,3,54,6,7,34,6,7,4,h}\n",
        "print(wete)"
      ],
      "metadata": {
        "colab": {
          "base_uri": "https://localhost:8080/"
        },
        "id": "GuG5xDVwWBrF",
        "outputId": "f50903f1-f9f7-4cd2-8787-557a78bdc1c9"
      },
      "execution_count": null,
      "outputs": [
        {
          "output_type": "stream",
          "name": "stdout",
          "text": [
            "hello worlgelle\n",
            "{2, 3, 34, 4, 6, 7, 54, 'gelle'}\n"
          ]
        }
      ]
    },
    {
      "cell_type": "code",
      "source": [
        "dictp={\"a\":22,\"b\":333}\n",
        "print(dictp[\"a\"])"
      ],
      "metadata": {
        "colab": {
          "base_uri": "https://localhost:8080/"
        },
        "id": "ahHmzgwUZOSP",
        "outputId": "fb65abd6-293b-460d-d92c-d43e5c9cf67b"
      },
      "execution_count": null,
      "outputs": [
        {
          "output_type": "stream",
          "name": "stdout",
          "text": [
            "22\n"
          ]
        }
      ]
    },
    {
      "cell_type": "code",
      "source": [
        "tutu=(2,3,4,5,4,5,3,5,3,54,32,54,23,4,2,4)\n",
        "print(tutu)\n",
        "tutu=set(tutu)\n",
        "print(tutu)\n",
        "tutu=tuple(tutu)\n",
        "print(tutu)\n"
      ],
      "metadata": {
        "colab": {
          "base_uri": "https://localhost:8080/"
        },
        "id": "ElePcbbEaV-_",
        "outputId": "e4b1de9d-8262-4514-d695-578196e81613"
      },
      "execution_count": null,
      "outputs": [
        {
          "output_type": "stream",
          "name": "stdout",
          "text": [
            "(2, 3, 4, 5, 4, 5, 3, 5, 3, 54, 32, 54, 23, 4, 2, 4)\n",
            "{32, 2, 3, 4, 5, 54, 23}\n",
            "(32, 2, 3, 4, 5, 54, 23)\n"
          ]
        }
      ]
    },
    {
      "cell_type": "code",
      "source": [
        "a=5%4\n",
        "print(a)\n",
        "a=8/4\n",
        "print(type(a))\n",
        "print(a)\n",
        "a=25%4\n",
        "print(a)\n",
        "print(type(a))\n",
        "a=(2528//85)\n",
        "print(a)\n",
        "print(type(a))\n",
        "a=6\n",
        "a+=1\n",
        "print(a)\n",
        "a*=2\n",
        "a/=2\n",
        "print(a)"
      ],
      "metadata": {
        "colab": {
          "base_uri": "https://localhost:8080/"
        },
        "id": "QkAa0MEPsyek",
        "outputId": "febd8ced-0e50-4ad5-f1e0-e6d4ee80c300"
      },
      "execution_count": null,
      "outputs": [
        {
          "output_type": "stream",
          "name": "stdout",
          "text": [
            "1\n",
            "<class 'float'>\n",
            "2.0\n",
            "1\n",
            "<class 'int'>\n",
            "29\n",
            "<class 'int'>\n",
            "7\n",
            "7.0\n"
          ]
        }
      ]
    },
    {
      "cell_type": "markdown",
      "source": [
        "in division answer is always in a float form output"
      ],
      "metadata": {
        "id": "8n3psOq8z-Np"
      }
    },
    {
      "cell_type": "code",
      "source": [
        "r=17\n",
        "s=19\n",
        "print(r>=18)\n",
        "print(s>=18)\n",
        "print(r>=18 and s>=18)\n",
        "print(r>=18 or s>=18)\n",
        "print(not(r<=18 and s>=18))"
      ],
      "metadata": {
        "colab": {
          "base_uri": "https://localhost:8080/"
        },
        "id": "CgwlhBhrznKe",
        "outputId": "018e5d7e-fed6-4097-d9bb-a58ce3a21d50"
      },
      "execution_count": null,
      "outputs": [
        {
          "output_type": "stream",
          "name": "stdout",
          "text": [
            "False\n",
            "True\n",
            "False\n",
            "True\n",
            "False\n"
          ]
        }
      ]
    },
    {
      "cell_type": "code",
      "source": [
        "pokilist=[12,13,14,\"Jiglipuff\",\"1\",\"2\"]\n",
        "for poke in pokilist:\n",
        "  #print(poke)\n",
        "  if poke==\"Jiglipuff\":\n",
        "    print(\"found Jioglipuff\")\n",
        "  else:\n",
        "    continue\n"
      ],
      "metadata": {
        "id": "uVlpjV8d3D-g",
        "colab": {
          "base_uri": "https://localhost:8080/"
        },
        "outputId": "8398b2fa-5b0d-4294-f680-fbfb7a4d621b"
      },
      "execution_count": null,
      "outputs": [
        {
          "output_type": "stream",
          "name": "stdout",
          "text": [
            "found Jioglipuff\n"
          ]
        }
      ]
    },
    {
      "cell_type": "code",
      "source": [
        "v1=\"pikachu\"\n",
        "v2=\"raichu\"\n",
        "v0=\"pichu\"\n",
        "for v in v1:\n",
        "  print(v)\n",
        "print(v1[-1:-7:-2])\n",
        "print(v1[:3])\n",
        "print(v1[-1:-4:-1])\n",
        "print(v1[-3:])\n",
        "print(v1[::-1])"
      ],
      "metadata": {
        "colab": {
          "base_uri": "https://localhost:8080/"
        },
        "id": "LKwFbwjM3BhA",
        "outputId": "ef06e1f2-bda6-425d-dff4-af337aea78cb"
      },
      "execution_count": null,
      "outputs": [
        {
          "output_type": "stream",
          "name": "stdout",
          "text": [
            "p\n",
            "i\n",
            "k\n",
            "a\n",
            "c\n",
            "h\n",
            "u\n",
            "uck\n",
            "pik\n",
            "uhc\n",
            "chu\n",
            "uhcakip\n"
          ]
        }
      ]
    },
    {
      "cell_type": "markdown",
      "source": [
        "reverse function for reversing a DATA TYPE \n"
      ],
      "metadata": {
        "id": "f5-hIc1GUdjX"
      }
    },
    {
      "cell_type": "code",
      "source": [
        "l=[\"Bulbasour_21\",\"coocoo_54\",\"SSquitle_42\",\"Charmender_33\",\"grounden_69\"]\n",
        "#l.reverse()\n",
        "for poke in l:\n",
        "    print(poke[-4::-1])"
      ],
      "metadata": {
        "id": "3xx8hWXF47f1",
        "colab": {
          "base_uri": "https://localhost:8080/"
        },
        "outputId": "22a1f6de-e0cd-4fd7-8ab0-a284cd3646fa"
      },
      "execution_count": null,
      "outputs": [
        {
          "output_type": "stream",
          "name": "stdout",
          "text": [
            "ruosabluB\n",
            "oocooc\n",
            "eltiuqSS\n",
            "rednemrahC\n",
            "nednuorg\n"
          ]
        }
      ]
    },
    {
      "cell_type": "code",
      "source": [
        "for poke in l[::2]:\n",
        "    print(poke[:-3])"
      ],
      "metadata": {
        "colab": {
          "base_uri": "https://localhost:8080/"
        },
        "id": "85HuFxc_RiIJ",
        "outputId": "85a51d98-e5f3-4321-ccd9-dd5dd8bff6ba"
      },
      "execution_count": null,
      "outputs": [
        {
          "output_type": "stream",
          "name": "stdout",
          "text": [
            "Bulbasour\n",
            "SSquitle\n",
            "grounden\n"
          ]
        }
      ]
    },
    {
      "cell_type": "markdown",
      "source": [
        "functuions of list"
      ],
      "metadata": {
        "id": "tZUBFmDjXNVm"
      }
    },
    {
      "cell_type": "code",
      "source": [
        "l=[]\n",
        "print(l)\n",
        "l=[\"Bulbasour_21\",\"coocoo_54\",\"SSquitle_42\",\"Charmender_33\",\"grounden_69\",\"Gangar_5545646\"]\n",
        "for poke in l:\n",
        "  print(poke[:poke.index(\"_\")])\n",
        "  print(poke.find(\"_\"))"
      ],
      "metadata": {
        "colab": {
          "base_uri": "https://localhost:8080/"
        },
        "id": "3xLtyfRFTsGf",
        "outputId": "91a2cea4-f085-4f55-ddfc-7dc7e631996c"
      },
      "execution_count": 53,
      "outputs": [
        {
          "output_type": "stream",
          "name": "stdout",
          "text": [
            "[]\n",
            "Bulbasour\n",
            "9\n",
            "coocoo\n",
            "6\n",
            "SSquitle\n",
            "8\n",
            "Charmender\n",
            "10\n",
            "grounden\n",
            "8\n",
            "Gangar\n",
            "6\n"
          ]
        }
      ]
    },
    {
      "cell_type": "code",
      "source": [
        "for poke in l:\n",
        "  if poke.startswith(\"g\") or poke.startswith(\"G\"):\n",
        "    print(poke[:poke.find(\"_\")])\n",
        "  else:\n",
        "    continue\n",
        "  "
      ],
      "metadata": {
        "colab": {
          "base_uri": "https://localhost:8080/"
        },
        "id": "WKYVcSNQWiTr",
        "outputId": "85220bd6-e463-4fb3-8072-f0b8fd3ca6e4"
      },
      "execution_count": 55,
      "outputs": [
        {
          "output_type": "stream",
          "name": "stdout",
          "text": [
            "grounden\n",
            "Gangar\n"
          ]
        }
      ]
    },
    {
      "cell_type": "code",
      "source": [
        "lst2=[]\n",
        "for i in l[::2]:\n",
        "  lst2.append(i)\n",
        "\n"
      ],
      "metadata": {
        "id": "SW6l_1oubBhF",
        "colab": {
          "base_uri": "https://localhost:8080/"
        },
        "outputId": "976050d7-b9c2-4d20-e7ba-5f41333e2ff0"
      },
      "execution_count": 57,
      "outputs": [
        {
          "output_type": "stream",
          "name": "stdout",
          "text": [
            "['Bulbasour_21', 'SSquitle_42', 'grounden_69']\n"
          ]
        }
      ]
    },
    {
      "cell_type": "code",
      "source": [],
      "metadata": {
        "id": "fMO2sAZuiixs"
      },
      "execution_count": null,
      "outputs": []
    }
  ],
  "metadata": {
    "colab": {
      "collapsed_sections": [],
      "provenance": []
    },
    "kernelspec": {
      "display_name": "Python 3",
      "name": "python3"
    },
    "language_info": {
      "name": "python"
    }
  },
  "nbformat": 4,
  "nbformat_minor": 0
}